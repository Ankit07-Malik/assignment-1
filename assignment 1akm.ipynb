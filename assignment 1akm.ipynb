{
 "cells": [
  {
   "cell_type": "code",
   "execution_count": 1,
   "id": "8b9d05c5",
   "metadata": {},
   "outputs": [
    {
     "name": "stdout",
     "output_type": "stream",
     "text": [
      "23\n"
     ]
    },
    {
     "data": {
      "text/plain": [
       "['Hey', 'i', 'am', 'from', 'New', 'Delhi']"
      ]
     },
     "execution_count": 1,
     "metadata": {},
     "output_type": "execute_result"
    }
   ],
   "source": [
    "#1.  From this given string: s = \"Hey i am from New Delhi\". Find out: length of string, convert this to list using split operation.\n",
    "a=\"Hey i am from New Delhi\"\n",
    "print(len(a))\n",
    "a.split()"
   ]
  },
  {
   "cell_type": "code",
   "execution_count": 4,
   "id": "da038139",
   "metadata": {},
   "outputs": [
    {
     "name": "stdout",
     "output_type": "stream",
     "text": [
      "Name is rahul\n",
      "Rame is Rahul\n",
      "NAME IS RAHUL\n",
      "Name is rahul\n",
      "Rame Is Rahul\n",
      "NAME IS RAHUL\n"
     ]
    }
   ],
   "source": [
    "#2.  Given string s = \"name is rahul\". Write code to give following o/p.\n",
    "#- \"Name is rahul\"\n",
    "#-  \"Rame Is Rahul\"\n",
    "#-  \"NAME IS RAHUL\"\n",
    "s = \"name is rahul\"\n",
    "b='N'+s[1:]\n",
    "print(b)\n",
    "c='R'+s[1:8]+'R'+s[9:]\n",
    "print(c)\n",
    "print(s.upper())\n",
    "#(or)\n",
    "print(s.capitalize())\n",
    "str = s.replace(\"name\", \"rame\")\n",
    "print(str.title())\n",
    "print(s.upper())\n"
   ]
  },
  {
   "cell_type": "code",
   "execution_count": 5,
   "id": "8ca1c03a",
   "metadata": {},
   "outputs": [
    {
     "name": "stdout",
     "output_type": "stream",
     "text": [
      "2\n",
      "3\n",
      "parimeter= 10\n",
      "area= 6\n"
     ]
    }
   ],
   "source": [
    "#3. Using length and breadth as input find out area and perimeter of a given rectangle.\n",
    "a=int(input())\n",
    "b=int(input())\n",
    "print(\"parimeter=\",2*(a+b))\n",
    "print(\"area=\",a*b)"
   ]
  },
  {
   "cell_type": "code",
   "execution_count": 8,
   "id": "0ee7f9c2",
   "metadata": {},
   "outputs": [
    {
     "name": "stdout",
     "output_type": "stream",
     "text": [
      "6\n",
      "radius:  3.0\n",
      "18.857142857142858\n",
      "28.285714285714285\n"
     ]
    }
   ],
   "source": [
    "#4. Using diameter as input find out circumference and area of a circle.\n",
    "diameter=int(input())\n",
    "radius = diameter/2\n",
    "print(\"radius: \", radius)\n",
    "circumference = 22/7 *2*radius\n",
    "area = (22/7 * radius*radius)\n",
    "print(circumference)\n",
    "print(area)"
   ]
  },
  {
   "cell_type": "code",
   "execution_count": 7,
   "id": "e45c9bc9",
   "metadata": {},
   "outputs": [
    {
     "name": "stdout",
     "output_type": "stream",
     "text": [
      "Enter the Coefficient a : 1\n",
      "Enter the Coefficient b : -7\n",
      "Enter the Coefficient c : 12\n",
      "The Roots of the Quadratic equation :  Alpha =  4.0 Beta =  3.0\n"
     ]
    }
   ],
   "source": [
    "#5. Write a program to compute roots of a quadratic equation when coefficients a, b and c are known(entered by user).\n",
    "import math\n",
    "coffa=float(input(\"Enter the Coefficient a : \"));\n",
    "coffb=float(input(\"Enter the Coefficient b : \"));\n",
    "coffc=float(input(\"Enter the Coefficient c : \"));\n",
    "diss = math.sqrt((coffb**2)-4*coffa*coffc);\n",
    "alpha=(-coffb + diss)/2*coffa;\n",
    "beta=(-coffb - diss)/2*coffa;\n",
    "print(\"The Roots of the Quadratic equation : \", \"Alpha = \",alpha, \"Beta = \",beta);\n",
    "\n"
   ]
  },
  {
   "cell_type": "code",
   "execution_count": 9,
   "id": "c9ed3126",
   "metadata": {},
   "outputs": [
    {
     "name": "stdout",
     "output_type": "stream",
     "text": [
      "5\n",
      "volume of sphere= 523.3333333333334\n"
     ]
    }
   ],
   "source": [
    "#6. Find volume of a sphere using radius as input.\n",
    "r=int(input())\n",
    "pi=3.14\n",
    "v=4/3*pi*r**3\n",
    "print(\"volume of sphere=\",v)"
   ]
  },
  {
   "cell_type": "code",
   "execution_count": 11,
   "id": "29c6c0bc",
   "metadata": {},
   "outputs": [
    {
     "name": "stdout",
     "output_type": "stream",
     "text": [
      "Enter the digit:12345\n",
      "no of digits are 5\n"
     ]
    }
   ],
   "source": [
    "#7. Count the  number of digits in a number. Example: 3454 has 4 digits.\n",
    "n=int(input(\"Enter the digit:\"))\n",
    "count=0\n",
    "while(n>0):\n",
    " count=count+1\n",
    " n=n//10\n",
    "print(\"no of digits are\",count)"
   ]
  },
  {
   "cell_type": "code",
   "execution_count": 17,
   "id": "77aa9662",
   "metadata": {},
   "outputs": [
    {
     "name": "stdout",
     "output_type": "stream",
     "text": [
      "enter a string= ankit\n",
      "ANKIT\n"
     ]
    }
   ],
   "source": [
    "#8. Write a program that accepts a string and gives output string with all capital letters.\n",
    "s=input(\"enter a string= \")\n",
    "print(s.upper())"
   ]
  },
  {
   "cell_type": "code",
   "execution_count": 20,
   "id": "523855d0",
   "metadata": {},
   "outputs": [
    {
     "name": "stdout",
     "output_type": "stream",
     "text": [
      "Enter String : ankit\n",
      "Enter Index : 3\n",
      "Enter Character : a\n",
      "a n k a t\n"
     ]
    }
   ],
   "source": [
    "#9. Write a program to that accepts a string s, an index number n and a character ‘c’. And outputs the string replaced with the character at the index number n. Example- ‘hello’ , 0 , ‘j’ ==> ‘jello’.\n",
    "#(Hint2: You can try it by join function too by typecasting it to list)\n",
    "s=input(\"Enter String : \")\n",
    "n=int(input(\"Enter Index : \"))\n",
    "c=input(\"Enter Character : \")\n",
    "temp=list(s)\n",
    "temp[n]=c\n",
    "s=\" \".join(temp)\n",
    "print(s)"
   ]
  },
  {
   "cell_type": "code",
   "execution_count": 23,
   "id": "4942bd4d",
   "metadata": {},
   "outputs": [
    {
     "name": "stdout",
     "output_type": "stream",
     "text": [
      "KLIAM TIKNA\n"
     ]
    }
   ],
   "source": [
    "#10. Reverse a string. Example: 'Hey there' = 'ereht yeH' \n",
    "a = \"ANKIT MAILK\"[::-1]\n",
    "print(a)"
   ]
  },
  {
   "cell_type": "code",
   "execution_count": null,
   "id": "b093a94e",
   "metadata": {},
   "outputs": [],
   "source": []
  }
 ],
 "metadata": {
  "kernelspec": {
   "display_name": "Python 3",
   "language": "python",
   "name": "python3"
  },
  "language_info": {
   "codemirror_mode": {
    "name": "ipython",
    "version": 3
   },
   "file_extension": ".py",
   "mimetype": "text/x-python",
   "name": "python",
   "nbconvert_exporter": "python",
   "pygments_lexer": "ipython3",
   "version": "3.9.5"
  }
 },
 "nbformat": 4,
 "nbformat_minor": 5
}
